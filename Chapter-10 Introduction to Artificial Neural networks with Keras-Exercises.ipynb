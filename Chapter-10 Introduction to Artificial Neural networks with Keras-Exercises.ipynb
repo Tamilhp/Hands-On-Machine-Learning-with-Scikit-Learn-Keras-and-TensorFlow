{
 "cells": [
  {
   "cell_type": "code",
   "execution_count": 1,
   "id": "123d5c8f",
   "metadata": {},
   "outputs": [],
   "source": [
    "# !pip install pandas\n",
    "# !pip install matplotlib\n",
    "# !pip install scikit-learn\n"
   ]
  },
  {
   "cell_type": "code",
   "execution_count": 3,
   "id": "a8cb33ed",
   "metadata": {},
   "outputs": [],
   "source": [
    "import tensorflow as tf\n",
    "from tensorflow import keras"
   ]
  },
  {
   "cell_type": "markdown",
   "id": "352f833e",
   "metadata": {},
   "source": [
    "### Setting up a virtual GPU"
   ]
  },
  {
   "cell_type": "code",
   "execution_count": 2,
   "id": "da3e6051",
   "metadata": {},
   "outputs": [
    {
     "ename": "NameError",
     "evalue": "name 'tf' is not defined",
     "output_type": "error",
     "traceback": [
      "\u001b[0;31m---------------------------------------------------------------------------\u001b[0m",
      "\u001b[0;31mNameError\u001b[0m                                 Traceback (most recent call last)",
      "Cell \u001b[0;32mIn[2], line 2\u001b[0m\n\u001b[1;32m      1\u001b[0m \u001b[38;5;66;03m# Creating a virtual GPU. Got the code block from the Tensorflow documentation\u001b[39;00m\n\u001b[0;32m----> 2\u001b[0m gpus \u001b[38;5;241m=\u001b[39m \u001b[43mtf\u001b[49m\u001b[38;5;241m.\u001b[39mconfig\u001b[38;5;241m.\u001b[39mlist_physical_devices(\u001b[38;5;124m'\u001b[39m\u001b[38;5;124mGPU\u001b[39m\u001b[38;5;124m'\u001b[39m)\n\u001b[1;32m      3\u001b[0m \u001b[38;5;28;01mif\u001b[39;00m gpus:\n\u001b[1;32m      4\u001b[0m   \u001b[38;5;66;03m# Restrict TensorFlow to only allocate 1GB of memory on the first GPU\u001b[39;00m\n\u001b[1;32m      5\u001b[0m   \u001b[38;5;28;01mtry\u001b[39;00m:\n",
      "\u001b[0;31mNameError\u001b[0m: name 'tf' is not defined"
     ]
    }
   ],
   "source": [
    "# Creating a virtual GPU. Got the code block from the Tensorflow documentation\n",
    "gpus = tf.config.list_physical_devices('GPU')\n",
    "if gpus:\n",
    "  # Restrict TensorFlow to only allocate 1GB of memory on the first GPU\n",
    "  try:\n",
    "    tf.config.set_logical_device_configuration(\n",
    "        gpus[0],\n",
    "        [tf.config.LogicalDeviceConfiguration(memory_limit=1024)])\n",
    "    logical_gpus = tf.config.list_logical_devices('GPU')\n",
    "    print(len(gpus), \"Physical GPUs,\", len(logical_gpus), \"Logical GPUs\")\n",
    "  except RuntimeError as e:\n",
    "    # Virtual devices must be set before GPUs have been initialized\n",
    "    print(e)"
   ]
  },
  {
   "cell_type": "code",
   "execution_count": 5,
   "id": "25c6e8c8",
   "metadata": {},
   "outputs": [
    {
     "data": {
      "text/plain": [
       "[PhysicalDevice(name='/physical_device:GPU:0', device_type='GPU')]"
      ]
     },
     "execution_count": 5,
     "metadata": {},
     "output_type": "execute_result"
    }
   ],
   "source": [
    "tf.config.list_physical_devices('GPU')"
   ]
  },
  {
   "cell_type": "markdown",
   "id": "46da8af6",
   "metadata": {},
   "source": [
    "### Problem statement:\n",
    "\n",
    "Train a deep MLP on the MNIST dataset(you can load it using keras.datasets.mnist.load_data()). See if you can get over 98% precision. try searching for the optimal learning rate by using the approach presented in this chapter(i.e., by growing the learning rate exponentially, plotting the error, and finding the point where the error shoots up.) Try adding all the bells and whistles-save checkpoints, use early stopping and plot learning curves using Tensorboard."
   ]
  },
  {
   "cell_type": "code",
   "execution_count": 6,
   "id": "c8c07538",
   "metadata": {},
   "outputs": [],
   "source": [
    "import numpy as np"
   ]
  },
  {
   "cell_type": "code",
   "execution_count": 7,
   "id": "c3eb8cdb",
   "metadata": {},
   "outputs": [],
   "source": [
    "data = keras.datasets.mnist.load_data()"
   ]
  },
  {
   "cell_type": "code",
   "execution_count": 62,
   "id": "a4f8c90d",
   "metadata": {},
   "outputs": [
    {
     "name": "stdout",
     "output_type": "stream",
     "text": [
      "x_train (50000, 28, 28)\n",
      "y_train (50000,)\n",
      "x_test (10000, 28, 28)\n",
      "y_test (10000,)\n"
     ]
    }
   ],
   "source": [
    "(X_train_full, Y_train_full), (x_test, y_test) = data\n",
    "print(\"x_train\", x_train.shape)\n",
    "print(\"y_train\", y_train.shape)\n",
    "print(\"x_test\", x_test.shape)\n",
    "print(\"y_test\", y_test.shape)"
   ]
  },
  {
   "cell_type": "code",
   "execution_count": 63,
   "id": "1ae81c70",
   "metadata": {},
   "outputs": [],
   "source": [
    "x_train, x_valid = X_train_full[:55000]/255., X_train_full[55000:]/255.\n",
    "y_train, y_valid = Y_train_full[:55000], Y_train_full[55000:]"
   ]
  },
  {
   "cell_type": "code",
   "execution_count": 64,
   "id": "e68cc14f",
   "metadata": {},
   "outputs": [
    {
     "data": {
      "text/plain": [
       "(28, 28)"
      ]
     },
     "execution_count": 64,
     "metadata": {},
     "output_type": "execute_result"
    }
   ],
   "source": [
    "x_train.shape[1:]"
   ]
  },
  {
   "cell_type": "code",
   "execution_count": 93,
   "id": "93ae3c48",
   "metadata": {},
   "outputs": [],
   "source": [
    "K = keras.backend\n",
    "\n",
    "class ExponentialLearningRate(keras.callbacks.Callback):\n",
    "    def __init__(self, factor):\n",
    "#         print(self.model.summary())\n",
    "#         self.model = model\n",
    "        self.rates = []\n",
    "        self.losses = []\n",
    "        self.factor = factor\n",
    "    def on_batch_end(self, batch, logs):\n",
    "        self.rates.append(K.get_value(self.model.optimizer.learning_rate))\n",
    "        self.losses.append(logs[\"loss\"])\n",
    "        K.set_value(self.model.optimizer.learning_rate, self.model.optimizer.learning_rate * self.factor)"
   ]
  },
  {
   "cell_type": "code",
   "execution_count": 94,
   "id": "46c287f4",
   "metadata": {},
   "outputs": [],
   "source": [
    "keras.backend.clear_session()\n",
    "np.random.seed(42)\n",
    "tf.random.set_seed(42)"
   ]
  },
  {
   "cell_type": "code",
   "execution_count": 95,
   "id": "6ebd7def",
   "metadata": {},
   "outputs": [],
   "source": [
    "model = tf.keras.Sequential([keras.layers.Flatten(input_shape=[28, 28]), \n",
    "                            keras.layers.Dense(units=300, activation=\"relu\"),\n",
    "                            keras.layers.Dense(units=100, activation=\"relu\"),\n",
    "                            keras.layers.Dense(units=10, activation=\"softmax\")])"
   ]
  },
  {
   "cell_type": "code",
   "execution_count": 96,
   "id": "2136d3dc",
   "metadata": {},
   "outputs": [],
   "source": [
    "model.compile(loss=\"sparse_categorical_crossentropy\", \n",
    "              optimizer=keras.optimizers.SGD(learning_rate=1e-3),\n",
    "              metrics=[\"accuracy\"])\n",
    "expon_lr = ExponentialLearningRate(factor=1.005)"
   ]
  },
  {
   "cell_type": "code",
   "execution_count": 97,
   "id": "78283857",
   "metadata": {},
   "outputs": [
    {
     "name": "stdout",
     "output_type": "stream",
     "text": [
      "Model: \"sequential\"\n",
      "_________________________________________________________________\n",
      " Layer (type)                Output Shape              Param #   \n",
      "=================================================================\n",
      " flatten (Flatten)           (None, 784)               0         \n",
      "                                                                 \n",
      " dense (Dense)               (None, 300)               235500    \n",
      "                                                                 \n",
      " dense_1 (Dense)             (None, 100)               30100     \n",
      "                                                                 \n",
      " dense_2 (Dense)             (None, 10)                1010      \n",
      "                                                                 \n",
      "=================================================================\n",
      "Total params: 266,610\n",
      "Trainable params: 266,610\n",
      "Non-trainable params: 0\n",
      "_________________________________________________________________\n"
     ]
    }
   ],
   "source": [
    "model.summary()"
   ]
  },
  {
   "cell_type": "code",
   "execution_count": 98,
   "id": "f123bd1c",
   "metadata": {},
   "outputs": [
    {
     "name": "stdout",
     "output_type": "stream",
     "text": [
      "1563/1563 [==============================] - 7s 4ms/step - loss: 144370515153130014900224.0000 - accuracy: 0.6431 - val_loss: 2.3445 - val_accuracy: 0.0990\n"
     ]
    },
    {
     "data": {
      "text/plain": [
       "<keras.callbacks.History at 0x7f5d8d8c01c0>"
      ]
     },
     "execution_count": 98,
     "metadata": {},
     "output_type": "execute_result"
    }
   ],
   "source": [
    "model.fit(x_train, y_train, epochs=1, \n",
    "          validation_data=(x_valid, y_valid), \n",
    "          callbacks=[expon_lr])"
   ]
  },
  {
   "cell_type": "code",
   "execution_count": 99,
   "id": "3eb33694",
   "metadata": {},
   "outputs": [
    {
     "data": {
      "text/plain": [
       "[<matplotlib.lines.Line2D at 0x7f5d8cfd0250>]"
      ]
     },
     "execution_count": 99,
     "metadata": {},
     "output_type": "execute_result"
    },
    {
     "data": {
      "text/plain": [
       "<matplotlib.collections.LineCollection at 0x7f5d8cf4f520>"
      ]
     },
     "execution_count": 99,
     "metadata": {},
     "output_type": "execute_result"
    },
    {
     "data": {
      "text/plain": [
       "Text(0.5, 0, 'learning_rates')"
      ]
     },
     "execution_count": 99,
     "metadata": {},
     "output_type": "execute_result"
    },
    {
     "data": {
      "text/plain": [
       "Text(0, 0.5, 'losses')"
      ]
     },
     "execution_count": 99,
     "metadata": {},
     "output_type": "execute_result"
    },
    {
     "data": {
      "image/png": "[encoded data removed]",
      "text/plain": [
       "<Figure size 640x480 with 1 Axes>"
      ]
     },
     "metadata": {},
     "output_type": "display_data"
    }
   ],
   "source": [
    "plt.plot(expon_lr.rates, expon_lr.losses)\n",
    "plt.gca().set_xscale(\"log\")\n",
    "plt.grid()\n",
    "plt.hlines(min(expon_lr.losses), min(expon_lr.rates), max(expon_lr.rates))\n",
    "\n",
    "plt.xlabel(\"learning_rates\")\n",
    "plt.ylabel(\"losses\")"
   ]
  },
  {
   "cell_type": "code",
   "execution_count": 37,
   "id": "0a203dc2",
   "metadata": {},
   "outputs": [
    {
     "data": {
      "text/plain": [
       "<Axes: >"
      ]
     },
     "execution_count": 37,
     "metadata": {},
     "output_type": "execute_result"
    },
    {
     "data": {
      "text/plain": [
       "(0.0, 1.0)"
      ]
     },
     "execution_count": 37,
     "metadata": {},
     "output_type": "execute_result"
    },
    {
     "data": {
      "image/png": "[encoded data removed]",
      "text/plain": [
       "<Figure size 800x500 with 1 Axes>"
      ]
     },
     "metadata": {},
     "output_type": "display_data"
    }
   ],
   "source": [
    "import pandas as pd\n",
    "import matplotlib.pyplot as plt\n",
    "\n",
    "pd.DataFrame(model.history.history).plot(figsize=(8,5))\n",
    "plt.grid(True)\n",
    "plt.gca().set_ylim(0,1)\n",
    "plt.show()"
   ]
  },
  {
   "cell_type": "code",
   "execution_count": 101,
   "id": "bc21d3ef",
   "metadata": {},
   "outputs": [],
   "source": [
    "model = keras.models.Sequential([keras.layers.Flatten(input_shape=[28,28], name=\"input\"),\n",
    "                                 keras.layers.Dense(units=300, activation=\"relu\", name=\"hidden1\"),\n",
    "                                 keras.layers.Dense(units=100, activation=\"relu\", name=\"hidden2\"),\n",
    "                                 keras.layers.Dense(units=10, activation=\"softmax\", name=\"output\")])"
   ]
  },
  {
   "cell_type": "code",
   "execution_count": 102,
   "id": "4cc51684",
   "metadata": {},
   "outputs": [],
   "source": [
    "model.compile(loss = \"sparse_categorical_crossentropy\", \n",
    "              optimizer = keras.optimizers.SGD(learning_rate=3e-1),\n",
    "              metrics = [\"accuracy\"])"
   ]
  },
  {
   "cell_type": "code",
   "execution_count": 103,
   "id": "c38c96b9",
   "metadata": {},
   "outputs": [
    {
     "name": "stdout",
     "output_type": "stream",
     "text": [
      "Model: \"sequential_1\"\n",
      "_________________________________________________________________\n",
      " Layer (type)                Output Shape              Param #   \n",
      "=================================================================\n",
      " input (Flatten)             (None, 784)               0         \n",
      "                                                                 \n",
      " hidden1 (Dense)             (None, 300)               235500    \n",
      "                                                                 \n",
      " hidden2 (Dense)             (None, 100)               30100     \n",
      "                                                                 \n",
      " output (Dense)              (None, 10)                1010      \n",
      "                                                                 \n",
      "=================================================================\n",
      "Total params: 266,610\n",
      "Trainable params: 266,610\n",
      "Non-trainable params: 0\n",
      "_________________________________________________________________\n"
     ]
    }
   ],
   "source": [
    "model.summary()"
   ]
  },
  {
   "cell_type": "code",
   "execution_count": 106,
   "id": "838cedf6",
   "metadata": {},
   "outputs": [
    {
     "name": "stdout",
     "output_type": "stream",
     "text": [
      "Epoch 1/100\n",
      "1563/1563 [==============================] - 50s 4ms/step - loss: 0.2441 - accuracy: 0.9235 - val_loss: 0.1290 - val_accuracy: 0.9620\n",
      "Epoch 2/100\n",
      "1563/1563 [==============================] - 5s 3ms/step - loss: 0.0991 - accuracy: 0.9690 - val_loss: 0.1098 - val_accuracy: 0.9660\n",
      "Epoch 3/100\n",
      "1563/1563 [==============================] - 5s 3ms/step - loss: 0.0666 - accuracy: 0.9793 - val_loss: 0.0986 - val_accuracy: 0.9726\n",
      "Epoch 4/100\n",
      "1563/1563 [==============================] - 5s 3ms/step - loss: 0.0495 - accuracy: 0.9841 - val_loss: 0.1191 - val_accuracy: 0.9673\n",
      "Epoch 5/100\n",
      "1563/1563 [==============================] - 5s 3ms/step - loss: 0.0373 - accuracy: 0.9874 - val_loss: 0.0889 - val_accuracy: 0.9783\n",
      "Epoch 6/100\n",
      "1563/1563 [==============================] - 5s 3ms/step - loss: 0.0301 - accuracy: 0.9903 - val_loss: 0.0867 - val_accuracy: 0.9767\n",
      "Epoch 7/100\n",
      "1563/1563 [==============================] - 5s 3ms/step - loss: 0.0203 - accuracy: 0.9934 - val_loss: 0.0926 - val_accuracy: 0.9773\n",
      "Epoch 8/100\n",
      "1563/1563 [==============================] - 5s 3ms/step - loss: 0.0176 - accuracy: 0.9942 - val_loss: 0.0869 - val_accuracy: 0.9801\n",
      "Epoch 9/100\n",
      "1563/1563 [==============================] - 6s 4ms/step - loss: 0.0140 - accuracy: 0.9953 - val_loss: 0.0960 - val_accuracy: 0.9779\n",
      "Epoch 10/100\n",
      "1563/1563 [==============================] - 5s 3ms/step - loss: 0.0155 - accuracy: 0.9946 - val_loss: 0.0979 - val_accuracy: 0.9775\n",
      "Epoch 11/100\n",
      "1563/1563 [==============================] - 6s 4ms/step - loss: 0.0113 - accuracy: 0.9963 - val_loss: 0.1187 - val_accuracy: 0.9774\n",
      "Epoch 12/100\n",
      "1563/1563 [==============================] - 5s 3ms/step - loss: 0.0126 - accuracy: 0.9960 - val_loss: 0.1078 - val_accuracy: 0.9777\n",
      "Epoch 13/100\n",
      "1563/1563 [==============================] - 5s 3ms/step - loss: 0.0081 - accuracy: 0.9972 - val_loss: 0.1026 - val_accuracy: 0.9804\n",
      "Epoch 14/100\n",
      "1563/1563 [==============================] - 6s 4ms/step - loss: 0.0073 - accuracy: 0.9976 - val_loss: 0.1522 - val_accuracy: 0.9726\n",
      "Epoch 15/100\n",
      "1563/1563 [==============================] - 6s 4ms/step - loss: 0.0041 - accuracy: 0.9985 - val_loss: 0.1085 - val_accuracy: 0.9797\n",
      "Epoch 16/100\n",
      "1563/1563 [==============================] - 5s 3ms/step - loss: 0.0090 - accuracy: 0.9975 - val_loss: 0.1085 - val_accuracy: 0.9805\n",
      "Epoch 17/100\n",
      "1563/1563 [==============================] - 5s 3ms/step - loss: 0.0037 - accuracy: 0.9987 - val_loss: 0.1024 - val_accuracy: 0.9822\n",
      "Epoch 18/100\n",
      "1563/1563 [==============================] - 6s 4ms/step - loss: 0.0016 - accuracy: 0.9996 - val_loss: 0.0963 - val_accuracy: 0.9831\n",
      "Epoch 19/100\n",
      "1563/1563 [==============================] - 5s 3ms/step - loss: 4.2430e-04 - accuracy: 0.9999 - val_loss: 0.0975 - val_accuracy: 0.9832\n",
      "Epoch 20/100\n",
      "1563/1563 [==============================] - 5s 3ms/step - loss: 1.1517e-04 - accuracy: 1.0000 - val_loss: 0.0980 - val_accuracy: 0.9835\n",
      "Epoch 21/100\n",
      "1563/1563 [==============================] - 5s 3ms/step - loss: 8.0620e-05 - accuracy: 1.0000 - val_loss: 0.0993 - val_accuracy: 0.9834\n",
      "Epoch 22/100\n",
      "1563/1563 [==============================] - 6s 4ms/step - loss: 6.6800e-05 - accuracy: 1.0000 - val_loss: 0.1002 - val_accuracy: 0.9834\n",
      "Epoch 23/100\n",
      "1563/1563 [==============================] - 5s 3ms/step - loss: 5.7769e-05 - accuracy: 1.0000 - val_loss: 0.1010 - val_accuracy: 0.9835\n",
      "Epoch 24/100\n",
      "1563/1563 [==============================] - 6s 4ms/step - loss: 5.1536e-05 - accuracy: 1.0000 - val_loss: 0.1017 - val_accuracy: 0.9834\n",
      "Epoch 25/100\n",
      "1563/1563 [==============================] - 6s 4ms/step - loss: 4.6535e-05 - accuracy: 1.0000 - val_loss: 0.1024 - val_accuracy: 0.9833\n",
      "Epoch 26/100\n",
      "1563/1563 [==============================] - 5s 3ms/step - loss: 4.2602e-05 - accuracy: 1.0000 - val_loss: 0.1030 - val_accuracy: 0.9836\n"
     ]
    },
    {
     "data": {
      "text/plain": [
       "<keras.callbacks.History at 0x7f5d8cec0310>"
      ]
     },
     "execution_count": 106,
     "metadata": {},
     "output_type": "execute_result"
    }
   ],
   "source": [
    "early_stopping = keras.callbacks.EarlyStopping(patience=20)\n",
    "check_point = keras.callbacks.ModelCheckpoint(\"my_model.h5\")\n",
    "\n",
    "model.fit(x_train, y_train, epochs=100,\n",
    "         validation_data=(x_valid, y_valid),\n",
    "         callbacks=[early_stopping, check_point])"
   ]
  },
  {
   "cell_type": "code",
   "execution_count": 111,
   "id": "4c755b4f",
   "metadata": {},
   "outputs": [
    {
     "data": {
      "text/plain": [
       "<Axes: >"
      ]
     },
     "execution_count": 111,
     "metadata": {},
     "output_type": "execute_result"
    },
    {
     "data": {
      "text/plain": [
       "(0.0, 1.0)"
      ]
     },
     "execution_count": 111,
     "metadata": {},
     "output_type": "execute_result"
    },
    {
     "data": {
      "image/png": "[encoded data removed]",
      "text/plain": [
       "<Figure size 800x500 with 1 Axes>"
      ]
     },
     "metadata": {},
     "output_type": "display_data"
    }
   ],
   "source": [
    "import pandas as pd\n",
    "import matplotlib.pyplot as plt\n",
    "\n",
    "pd.DataFrame(model.history.history).plot(figsize=(8,5))\n",
    "plt.grid(True)\n",
    "plt.gca().set_ylim(0,1)\n",
    "plt.show()"
   ]
  },
  {
   "cell_type": "code",
   "execution_count": 108,
   "id": "8bd1e917",
   "metadata": {},
   "outputs": [],
   "source": [
    "my_model = keras.models.load_model(\"my_model.h5\")"
   ]
  },
  {
   "cell_type": "code",
   "execution_count": 110,
   "id": "11d63df0",
   "metadata": {},
   "outputs": [
    {
     "name": "stdout",
     "output_type": "stream",
     "text": [
      "313/313 [==============================] - 1s 2ms/step - loss: 24.4942 - accuracy: 0.9828\n"
     ]
    },
    {
     "data": {
      "text/plain": [
       "[24.494218826293945, 0.9828000068664551]"
      ]
     },
     "execution_count": 110,
     "metadata": {},
     "output_type": "execute_result"
    }
   ],
   "source": [
    "my_model.evaluate(x_test, y_test)"
   ]
  },
  {
   "cell_type": "code",
   "execution_count": null,
   "id": "a97b4fc6",
   "metadata": {},
   "outputs": [],
   "source": []
  }
 ],
 "metadata": {
  "kernelspec": {
   "display_name": "Python 3 (ipykernel)",
   "language": "python",
   "name": "python3"
  },
  "language_info": {
   "codemirror_mode": {
    "name": "ipython",
    "version": 3
   },
   "file_extension": ".py",
   "mimetype": "text/x-python",
   "name": "python",
   "nbconvert_exporter": "python",
   "pygments_lexer": "ipython3",
   "version": "3.10.10"
  }
 },
 "nbformat": 4,
 "nbformat_minor": 5
}
