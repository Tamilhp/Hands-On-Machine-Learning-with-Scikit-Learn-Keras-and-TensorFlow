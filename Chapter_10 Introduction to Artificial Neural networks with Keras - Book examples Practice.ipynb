{
 "cells": [
  {
   "cell_type": "code",
   "execution_count": 1,
   "id": "6c66dbe8",
   "metadata": {},
   "outputs": [],
   "source": [
    "# !pip install pandas\n",
    "# !pip install matplotlib\n",
    "# !pip install scikit-learn"
   ]
  },
  {
   "cell_type": "code",
   "execution_count": 30,
   "id": "176c90ee",
   "metadata": {},
   "outputs": [],
   "source": [
    "import tensorflow as tf\n",
    "from tensorflow import keras"
   ]
  },
  {
   "cell_type": "code",
   "execution_count": 31,
   "id": "358b1a21",
   "metadata": {},
   "outputs": [
    {
     "name": "stdout",
     "output_type": "stream",
     "text": [
      "1 Physical GPUs, 1 Logical GPUs\n"
     ]
    }
   ],
   "source": [
    "# Creating a virtual GPU. Got the code block from the Tensorflow documentation\n",
    "gpus = tf.config.list_physical_devices('GPU')\n",
    "if gpus:\n",
    "  # Restrict TensorFlow to only allocate 1GB of memory on the first GPU\n",
    "  try:\n",
    "    tf.config.set_logical_device_configuration(\n",
    "        gpus[0],\n",
    "        [tf.config.LogicalDeviceConfiguration(memory_limit=1024)])\n",
    "    logical_gpus = tf.config.list_logical_devices('GPU')\n",
    "    print(len(gpus), \"Physical GPUs,\", len(logical_gpus), \"Logical GPUs\")\n",
    "  except RuntimeError as e:\n",
    "    # Virtual devices must be set before GPUs have been initialized\n",
    "    print(e)"
   ]
  },
  {
   "cell_type": "code",
   "execution_count": 32,
   "id": "5861a1fc",
   "metadata": {},
   "outputs": [
    {
     "data": {
      "text/plain": [
       "[PhysicalDevice(name='/physical_device:GPU:0', device_type='GPU')]"
      ]
     },
     "execution_count": 32,
     "metadata": {},
     "output_type": "execute_result"
    }
   ],
   "source": [
    "tf.config.list_physical_devices('GPU')"
   ]
  },
  {
   "cell_type": "markdown",
   "id": "2a699578",
   "metadata": {},
   "source": [
    "## 1) Building an Image classifier using the Sequential API"
   ]
  },
  {
   "cell_type": "code",
   "execution_count": 5,
   "id": "25c2ac95",
   "metadata": {},
   "outputs": [
    {
     "name": "stdout",
     "output_type": "stream",
     "text": [
      "Downloading data from https://storage.googleapis.com/tensorflow/tf-keras-datasets/train-labels-idx1-ubyte.gz\n",
      "29515/29515 [==============================] - 0s 1us/step\n",
      "Downloading data from https://storage.googleapis.com/tensorflow/tf-keras-datasets/train-images-idx3-ubyte.gz\n",
      "26421880/26421880 [==============================] - 3s 0us/step\n",
      "Downloading data from https://storage.googleapis.com/tensorflow/tf-keras-datasets/t10k-labels-idx1-ubyte.gz\n",
      "5148/5148 [==============================] - 0s 0us/step\n",
      "Downloading data from https://storage.googleapis.com/tensorflow/tf-keras-datasets/t10k-images-idx3-ubyte.gz\n",
      "4422102/4422102 [==============================] - 0s 0us/step\n"
     ]
    }
   ],
   "source": [
    "# Loading the fashion_mnist dataset from keras\n",
    "fashion_mnist = keras.datasets.fashion_mnist\n",
    "(X_train_full, y_train_full), (X_test, y_test) = fashion_mnist.load_data()"
   ]
  },
  {
   "cell_type": "code",
   "execution_count": 6,
   "id": "6bfa92f1",
   "metadata": {},
   "outputs": [
    {
     "data": {
      "text/plain": [
       "(60000, 28, 28)"
      ]
     },
     "execution_count": 6,
     "metadata": {},
     "output_type": "execute_result"
    }
   ],
   "source": [
    "X_train_full.shape"
   ]
  },
  {
   "cell_type": "code",
   "execution_count": 7,
   "id": "512fe77e",
   "metadata": {},
   "outputs": [],
   "source": [
    "# Splitting into train and validation set\n",
    "X_valid, X_train = X_train_full[:5000]/255.0, X_train_full[5000:]/255.0\n",
    "y_valid, y_train = y_train_full[:5000], y_train_full[5000:]"
   ]
  },
  {
   "cell_type": "code",
   "execution_count": 8,
   "id": "060dff27",
   "metadata": {},
   "outputs": [],
   "source": [
    "class_names = [\"T-shirt/top\", \"Trouser\", \"Pullover\", \"Dress\", \"Coat\", \"Sandal\", \n",
    "               \"Shirt\", \"Sneaker\", \"Bag\", \"Ankle boot\"]"
   ]
  },
  {
   "cell_type": "markdown",
   "id": "a71ca2af",
   "metadata": {},
   "source": [
    "### Initializing the model"
   ]
  },
  {
   "cell_type": "code",
   "execution_count": 24,
   "id": "bf979946",
   "metadata": {},
   "outputs": [],
   "source": [
    "# Initialize the model\n",
    "model = keras.models.Sequential()\n",
    "model.add(keras.layers.Flatten(input_shape=[28, 28]))\n",
    "model.add(keras.layers.Dense(300, activation=\"relu\"))\n",
    "model.add(keras.layers.Dense(100, activation=\"relu\"))\n",
    "model.add(keras.layers.Dense(10, activation=\"softmax\"))"
   ]
  },
  {
   "cell_type": "code",
   "execution_count": 25,
   "id": "d60f72e7",
   "metadata": {},
   "outputs": [
    {
     "name": "stdout",
     "output_type": "stream",
     "text": [
      "Model: \"sequential_1\"\n",
      "_________________________________________________________________\n",
      " Layer (type)                Output Shape              Param #   \n",
      "=================================================================\n",
      " flatten_1 (Flatten)         (None, 784)               0         \n",
      "                                                                 \n",
      " dense_3 (Dense)             (None, 300)               235500    \n",
      "                                                                 \n",
      " dense_4 (Dense)             (None, 100)               30100     \n",
      "                                                                 \n",
      " dense_5 (Dense)             (None, 10)                1010      \n",
      "                                                                 \n",
      "=================================================================\n",
      "Total params: 266,610\n",
      "Trainable params: 266,610\n",
      "Non-trainable params: 0\n",
      "_________________________________________________________________\n"
     ]
    }
   ],
   "source": [
    "# To get the model's summary\n",
    "model.summary()"
   ]
  },
  {
   "cell_type": "code",
   "execution_count": 26,
   "id": "8dab54a4",
   "metadata": {},
   "outputs": [
    {
     "data": {
      "text/plain": [
       "[<keras.layers.reshaping.flatten.Flatten at 0x7facc02005b0>,\n",
       " <keras.layers.core.dense.Dense at 0x7facc0210b50>,\n",
       " <keras.layers.core.dense.Dense at 0x7facc02111b0>,\n",
       " <keras.layers.core.dense.Dense at 0x7facc01500a0>]"
      ]
     },
     "execution_count": 26,
     "metadata": {},
     "output_type": "execute_result"
    }
   ],
   "source": [
    "# To get the different layers in the model\n",
    "model.layers"
   ]
  },
  {
   "cell_type": "code",
   "execution_count": 27,
   "id": "42fb24b1",
   "metadata": {},
   "outputs": [],
   "source": [
    "# The dense layers are randomly initialized to break the symmetry\n",
    "# Biases are initialized with zero\n",
    "# To use different initialization method, can use \n",
    "#\"kernel_initializer\"(kernel is another name for matrix of connection weights) or bias_initializer\n",
    "weights, biases = model.layers[1].get_weights()"
   ]
  },
  {
   "cell_type": "code",
   "execution_count": 28,
   "id": "d937c762",
   "metadata": {},
   "outputs": [
    {
     "data": {
      "text/plain": [
       "array([[-0.03282255,  0.05624321, -0.0464827 , ..., -0.01037037,\n",
       "        -0.00518335,  0.07352825],\n",
       "       [ 0.04484316,  0.06611127, -0.04108194, ..., -0.03105582,\n",
       "         0.06027539,  0.07296595],\n",
       "       [ 0.00157899, -0.0011799 , -0.01182091, ...,  0.06228502,\n",
       "         0.07086916, -0.04869295],\n",
       "       ...,\n",
       "       [-0.07148506, -0.02661597,  0.05018748, ..., -0.06174666,\n",
       "         0.00039884,  0.05631761],\n",
       "       [-0.05360314,  0.06346595,  0.04073659, ..., -0.02524466,\n",
       "         0.01260746, -0.04492055],\n",
       "       [-0.00306334, -0.03413533, -0.06105193, ..., -0.02490833,\n",
       "        -0.04513054,  0.01090122]], dtype=float32)"
      ]
     },
     "execution_count": 28,
     "metadata": {},
     "output_type": "execute_result"
    }
   ],
   "source": [
    "weights"
   ]
  },
  {
   "cell_type": "code",
   "execution_count": 29,
   "id": "e0fa9a02",
   "metadata": {},
   "outputs": [
    {
     "data": {
      "text/plain": [
       "array([0., 0., 0., 0., 0., 0., 0., 0., 0., 0., 0., 0., 0., 0., 0., 0., 0.,\n",
       "       0., 0., 0., 0., 0., 0., 0., 0., 0., 0., 0., 0., 0., 0., 0., 0., 0.,\n",
       "       0., 0., 0., 0., 0., 0., 0., 0., 0., 0., 0., 0., 0., 0., 0., 0., 0.,\n",
       "       0., 0., 0., 0., 0., 0., 0., 0., 0., 0., 0., 0., 0., 0., 0., 0., 0.,\n",
       "       0., 0., 0., 0., 0., 0., 0., 0., 0., 0., 0., 0., 0., 0., 0., 0., 0.,\n",
       "       0., 0., 0., 0., 0., 0., 0., 0., 0., 0., 0., 0., 0., 0., 0., 0., 0.,\n",
       "       0., 0., 0., 0., 0., 0., 0., 0., 0., 0., 0., 0., 0., 0., 0., 0., 0.,\n",
       "       0., 0., 0., 0., 0., 0., 0., 0., 0., 0., 0., 0., 0., 0., 0., 0., 0.,\n",
       "       0., 0., 0., 0., 0., 0., 0., 0., 0., 0., 0., 0., 0., 0., 0., 0., 0.,\n",
       "       0., 0., 0., 0., 0., 0., 0., 0., 0., 0., 0., 0., 0., 0., 0., 0., 0.,\n",
       "       0., 0., 0., 0., 0., 0., 0., 0., 0., 0., 0., 0., 0., 0., 0., 0., 0.,\n",
       "       0., 0., 0., 0., 0., 0., 0., 0., 0., 0., 0., 0., 0., 0., 0., 0., 0.,\n",
       "       0., 0., 0., 0., 0., 0., 0., 0., 0., 0., 0., 0., 0., 0., 0., 0., 0.,\n",
       "       0., 0., 0., 0., 0., 0., 0., 0., 0., 0., 0., 0., 0., 0., 0., 0., 0.,\n",
       "       0., 0., 0., 0., 0., 0., 0., 0., 0., 0., 0., 0., 0., 0., 0., 0., 0.,\n",
       "       0., 0., 0., 0., 0., 0., 0., 0., 0., 0., 0., 0., 0., 0., 0., 0., 0.,\n",
       "       0., 0., 0., 0., 0., 0., 0., 0., 0., 0., 0., 0., 0., 0., 0., 0., 0.,\n",
       "       0., 0., 0., 0., 0., 0., 0., 0., 0., 0., 0.], dtype=float32)"
      ]
     },
     "execution_count": 29,
     "metadata": {},
     "output_type": "execute_result"
    }
   ],
   "source": [
    "biases"
   ]
  },
  {
   "cell_type": "markdown",
   "id": "15f5982d",
   "metadata": {},
   "source": [
    "### Compiling the model"
   ]
  },
  {
   "cell_type": "code",
   "execution_count": 30,
   "id": "78c794f5",
   "metadata": {},
   "outputs": [],
   "source": [
    "# Compile the model\n",
    "# For the explanation of this loss function and when to use which loss function,\n",
    "# Refer the book \"Hands-on Machine Learning\", pg-no: 302\n",
    "model.compile(loss=\"sparse_categorical_crossentropy\",\n",
    "             optimizer=\"sgd\",\n",
    "             metrics=[\"accuracy\"])"
   ]
  },
  {
   "cell_type": "code",
   "execution_count": 31,
   "id": "9a834367",
   "metadata": {},
   "outputs": [
    {
     "data": {
      "text/plain": [
       "(55000,)"
      ]
     },
     "execution_count": 31,
     "metadata": {},
     "output_type": "execute_result"
    }
   ],
   "source": [
    "y_train.shape"
   ]
  },
  {
   "cell_type": "markdown",
   "id": "0317ef17",
   "metadata": {},
   "source": [
    "### Training and evaluating the model"
   ]
  },
  {
   "cell_type": "code",
   "execution_count": 32,
   "id": "097509cc",
   "metadata": {
    "scrolled": false
   },
   "outputs": [
    {
     "name": "stdout",
     "output_type": "stream",
     "text": [
      "Epoch 1/30\n",
      "1719/1719 [==============================] - 2s 1ms/step - loss: 0.7170 - accuracy: 0.7674 - val_loss: 0.5382 - val_accuracy: 0.8146\n",
      "Epoch 2/30\n",
      "1719/1719 [==============================] - 2s 1ms/step - loss: 0.4854 - accuracy: 0.8317 - val_loss: 0.4570 - val_accuracy: 0.8456\n",
      "Epoch 3/30\n",
      "1719/1719 [==============================] - 2s 1ms/step - loss: 0.4399 - accuracy: 0.8468 - val_loss: 0.4123 - val_accuracy: 0.8608\n",
      "Epoch 4/30\n",
      "1719/1719 [==============================] - 2s 1ms/step - loss: 0.4140 - accuracy: 0.8551 - val_loss: 0.4060 - val_accuracy: 0.8618\n",
      "Epoch 5/30\n",
      "1719/1719 [==============================] - 2s 1ms/step - loss: 0.3941 - accuracy: 0.8628 - val_loss: 0.3761 - val_accuracy: 0.8664\n",
      "Epoch 6/30\n",
      "1719/1719 [==============================] - 2s 1ms/step - loss: 0.3779 - accuracy: 0.8673 - val_loss: 0.3783 - val_accuracy: 0.8688\n",
      "Epoch 7/30\n",
      "1719/1719 [==============================] - 2s 1ms/step - loss: 0.3638 - accuracy: 0.8721 - val_loss: 0.3699 - val_accuracy: 0.8726\n",
      "Epoch 8/30\n",
      "1719/1719 [==============================] - 2s 1ms/step - loss: 0.3534 - accuracy: 0.8751 - val_loss: 0.3631 - val_accuracy: 0.8680\n",
      "Epoch 9/30\n",
      "1719/1719 [==============================] - 2s 1ms/step - loss: 0.3418 - accuracy: 0.8783 - val_loss: 0.3528 - val_accuracy: 0.8752\n",
      "Epoch 10/30\n",
      "1719/1719 [==============================] - 2s 1ms/step - loss: 0.3328 - accuracy: 0.8806 - val_loss: 0.3500 - val_accuracy: 0.8762\n",
      "Epoch 11/30\n",
      "1719/1719 [==============================] - 2s 1ms/step - loss: 0.3241 - accuracy: 0.8836 - val_loss: 0.3346 - val_accuracy: 0.8842\n",
      "Epoch 12/30\n",
      "1719/1719 [==============================] - 2s 1ms/step - loss: 0.3156 - accuracy: 0.8869 - val_loss: 0.3410 - val_accuracy: 0.8764\n",
      "Epoch 13/30\n",
      "1719/1719 [==============================] - 2s 1ms/step - loss: 0.3088 - accuracy: 0.8890 - val_loss: 0.3339 - val_accuracy: 0.8794\n",
      "Epoch 14/30\n",
      "1719/1719 [==============================] - 2s 1ms/step - loss: 0.3011 - accuracy: 0.8922 - val_loss: 0.3459 - val_accuracy: 0.8758\n",
      "Epoch 15/30\n",
      "1719/1719 [==============================] - 2s 1ms/step - loss: 0.2952 - accuracy: 0.8939 - val_loss: 0.3158 - val_accuracy: 0.8858\n",
      "Epoch 16/30\n",
      "1719/1719 [==============================] - 2s 1ms/step - loss: 0.2891 - accuracy: 0.8963 - val_loss: 0.3234 - val_accuracy: 0.8854\n",
      "Epoch 17/30\n",
      "1719/1719 [==============================] - 2s 1ms/step - loss: 0.2834 - accuracy: 0.8965 - val_loss: 0.3192 - val_accuracy: 0.8828\n",
      "Epoch 18/30\n",
      "1719/1719 [==============================] - 2s 1ms/step - loss: 0.2780 - accuracy: 0.8992 - val_loss: 0.3116 - val_accuracy: 0.8884\n",
      "Epoch 19/30\n",
      "1719/1719 [==============================] - 2s 1ms/step - loss: 0.2726 - accuracy: 0.9014 - val_loss: 0.3233 - val_accuracy: 0.8848\n",
      "Epoch 20/30\n",
      "1719/1719 [==============================] - 2s 1ms/step - loss: 0.2675 - accuracy: 0.9031 - val_loss: 0.3032 - val_accuracy: 0.8936\n",
      "Epoch 21/30\n",
      "1719/1719 [==============================] - 2s 1ms/step - loss: 0.2622 - accuracy: 0.9054 - val_loss: 0.3144 - val_accuracy: 0.8866\n",
      "Epoch 22/30\n",
      "1719/1719 [==============================] - 2s 1ms/step - loss: 0.2585 - accuracy: 0.9055 - val_loss: 0.3150 - val_accuracy: 0.8816\n",
      "Epoch 23/30\n",
      "1719/1719 [==============================] - 2s 1ms/step - loss: 0.2538 - accuracy: 0.9082 - val_loss: 0.3038 - val_accuracy: 0.8894\n",
      "Epoch 24/30\n",
      "1719/1719 [==============================] - 2s 1ms/step - loss: 0.2484 - accuracy: 0.9103 - val_loss: 0.3195 - val_accuracy: 0.8856\n",
      "Epoch 25/30\n",
      "1719/1719 [==============================] - 2s 1ms/step - loss: 0.2453 - accuracy: 0.9118 - val_loss: 0.3018 - val_accuracy: 0.8906\n",
      "Epoch 26/30\n",
      "1719/1719 [==============================] - 2s 1ms/step - loss: 0.2413 - accuracy: 0.9121 - val_loss: 0.3123 - val_accuracy: 0.8868\n",
      "Epoch 27/30\n",
      "1719/1719 [==============================] - 2s 1ms/step - loss: 0.2361 - accuracy: 0.9137 - val_loss: 0.3135 - val_accuracy: 0.8886\n",
      "Epoch 28/30\n",
      "1719/1719 [==============================] - 2s 1ms/step - loss: 0.2332 - accuracy: 0.9165 - val_loss: 0.2968 - val_accuracy: 0.8918\n",
      "Epoch 29/30\n",
      "1719/1719 [==============================] - 2s 1ms/step - loss: 0.2293 - accuracy: 0.9170 - val_loss: 0.3070 - val_accuracy: 0.8894\n",
      "Epoch 30/30\n",
      "1719/1719 [==============================] - 2s 1ms/step - loss: 0.2246 - accuracy: 0.9182 - val_loss: 0.3254 - val_accuracy: 0.8844\n"
     ]
    }
   ],
   "source": [
    "history = model.fit(X_train, y_train, epochs=30, validation_data=(X_valid, y_valid))"
   ]
  },
  {
   "cell_type": "code",
   "execution_count": 33,
   "id": "e38335fb",
   "metadata": {},
   "outputs": [
    {
     "data": {
      "image/png": "[encoded data removed]",
      "text/plain": [
       "<Figure size 800x500 with 1 Axes>"
      ]
     },
     "metadata": {},
     "output_type": "display_data"
    }
   ],
   "source": [
    "# Learning curves: The mean training loss and the accuracy measured over each epoch\n",
    "# And the mean validation loss and the accuracy measured at the end of each epoch\n",
    "\n",
    "import pandas as pd\n",
    "import matplotlib.pyplot as plt\n",
    "\n",
    "pd.DataFrame(history.history).plot(figsize=(8,5))\n",
    "plt.grid(True)\n",
    "plt.gca().set_ylim(0,1)\n",
    "plt.show()"
   ]
  },
  {
   "cell_type": "code",
   "execution_count": 34,
   "id": "2355b114",
   "metadata": {},
   "outputs": [
    {
     "name": "stdout",
     "output_type": "stream",
     "text": [
      "313/313 [==============================] - 0s 736us/step - loss: 93.2612 - accuracy: 0.8107\n"
     ]
    },
    {
     "data": {
      "text/plain": [
       "[93.26118469238281, 0.810699999332428]"
      ]
     },
     "execution_count": 34,
     "metadata": {},
     "output_type": "execute_result"
    }
   ],
   "source": [
    "# Evaluating the model on test cases\n",
    "model.evaluate(X_test, y_test)"
   ]
  },
  {
   "cell_type": "markdown",
   "id": "78e32601",
   "metadata": {},
   "source": [
    "### Predicting the classes"
   ]
  },
  {
   "cell_type": "code",
   "execution_count": 35,
   "id": "5f2dc9c3",
   "metadata": {},
   "outputs": [
    {
     "name": "stdout",
     "output_type": "stream",
     "text": [
      "1/1 [==============================] - 0s 33ms/step\n"
     ]
    },
    {
     "data": {
      "text/plain": [
       "array([[0., 0., 0., 0., 0., 0., 0., 0., 0., 1.],\n",
       "       [0., 0., 1., 0., 0., 0., 0., 0., 0., 0.],\n",
       "       [0., 1., 0., 0., 0., 0., 0., 0., 0., 0.]], dtype=float32)"
      ]
     },
     "execution_count": 35,
     "metadata": {},
     "output_type": "execute_result"
    }
   ],
   "source": [
    "# Predicting for the new cases\n",
    "X_new = X_test[:3]\n",
    "y_proba = model.predict(X_new)\n",
    "y_proba.round(2)"
   ]
  },
  {
   "cell_type": "code",
   "execution_count": 36,
   "id": "2d15ceb0",
   "metadata": {},
   "outputs": [
    {
     "data": {
      "text/plain": [
       "array([9, 2, 1], dtype=uint8)"
      ]
     },
     "execution_count": 36,
     "metadata": {},
     "output_type": "execute_result"
    }
   ],
   "source": [
    "y_new = y_test[:3]\n",
    "y_new"
   ]
  },
  {
   "cell_type": "markdown",
   "id": "97214c60",
   "metadata": {},
   "source": [
    "## 2) Building a Regression MLP using the Sequential API\n",
    "\n",
    "- The code from here on will contain \"loss:nan val_loss:nan\" error during training because the dataset that was used in the book and the dataset used here are different"
   ]
  },
  {
   "cell_type": "code",
   "execution_count": 5,
   "id": "f8284c15",
   "metadata": {},
   "outputs": [],
   "source": [
    "from sklearn.datasets import fetch_california_housing\n",
    "from sklearn.model_selection import train_test_split\n",
    "from sklearn.preprocessing import StandardScaler"
   ]
  },
  {
   "cell_type": "markdown",
   "id": "f7d3cbc4",
   "metadata": {},
   "source": [
    "### Loading the dataset"
   ]
  },
  {
   "cell_type": "code",
   "execution_count": 6,
   "id": "7c0594d0",
   "metadata": {},
   "outputs": [],
   "source": [
    "import os\n",
    "import tarfile\n",
    "import urllib\n",
    "\n",
    "DOWNLOAD_ROOT = 'https://raw.githubusercontent.com/ageron/handson-ml2/master/'\n",
    "HOUSING_PATH = os.path.join(\"datasets\",\"housing\")\n",
    "HOUSING_URL = DOWNLOAD_ROOT + \"datasets/housing/housing.tgz\""
   ]
  },
  {
   "cell_type": "code",
   "execution_count": 7,
   "id": "e91ca2a5",
   "metadata": {},
   "outputs": [],
   "source": [
    "def fetch_housing_data(housing_url = HOUSING_URL, housing_path = HOUSING_PATH):\n",
    "    os.makedirs(housing_path, exist_ok = True)\n",
    "    tgz_path = os.path.join(housing_path, \"housing.tgz\")\n",
    "    urllib.request.urlretrieve(housing_url, tgz_path)\n",
    "    housing_tgz = tarfile.open(tgz_path)\n",
    "    housing_tgz.extractall(path = housing_path)\n",
    "    housing_tgz.close()\n",
    "fetch_housing_data()"
   ]
  },
  {
   "cell_type": "code",
   "execution_count": 8,
   "id": "66629045",
   "metadata": {},
   "outputs": [],
   "source": [
    "import pandas as pd\n",
    "\n",
    "def load_housing_data(housing_path = HOUSING_PATH):\n",
    "    csv_path = os.path.join(housing_path,\"housing.csv\")\n",
    "    return pd.read_csv(csv_path)"
   ]
  },
  {
   "cell_type": "code",
   "execution_count": 9,
   "id": "ed7d13ac",
   "metadata": {},
   "outputs": [
    {
     "data": {
      "text/html": [
       "<div>\n",
       "<style scoped>\n",
       "    .dataframe tbody tr th:only-of-type {\n",
       "        vertical-align: middle;\n",
       "    }\n",
       "\n",
       "    .dataframe tbody tr th {\n",
       "        vertical-align: top;\n",
       "    }\n",
       "\n",
       "    .dataframe thead th {\n",
       "        text-align: right;\n",
       "    }\n",
       "</style>\n",
       "<table border=\"1\" class=\"dataframe\">\n",
       "  <thead>\n",
       "    <tr style=\"text-align: right;\">\n",
       "      <th></th>\n",
       "      <th>longitude</th>\n",
       "      <th>latitude</th>\n",
       "      <th>housing_median_age</th>\n",
       "      <th>total_rooms</th>\n",
       "      <th>population</th>\n",
       "      <th>households</th>\n",
       "      <th>median_income</th>\n",
       "      <th>median_house_value</th>\n",
       "    </tr>\n",
       "  </thead>\n",
       "  <tbody>\n",
       "    <tr>\n",
       "      <th>0</th>\n",
       "      <td>-122.23</td>\n",
       "      <td>37.88</td>\n",
       "      <td>41.0</td>\n",
       "      <td>880.0</td>\n",
       "      <td>322.0</td>\n",
       "      <td>126.0</td>\n",
       "      <td>8.3252</td>\n",
       "      <td>452600.0</td>\n",
       "    </tr>\n",
       "    <tr>\n",
       "      <th>1</th>\n",
       "      <td>-122.22</td>\n",
       "      <td>37.86</td>\n",
       "      <td>21.0</td>\n",
       "      <td>7099.0</td>\n",
       "      <td>2401.0</td>\n",
       "      <td>1138.0</td>\n",
       "      <td>8.3014</td>\n",
       "      <td>358500.0</td>\n",
       "    </tr>\n",
       "    <tr>\n",
       "      <th>2</th>\n",
       "      <td>-122.24</td>\n",
       "      <td>37.85</td>\n",
       "      <td>52.0</td>\n",
       "      <td>1467.0</td>\n",
       "      <td>496.0</td>\n",
       "      <td>177.0</td>\n",
       "      <td>7.2574</td>\n",
       "      <td>352100.0</td>\n",
       "    </tr>\n",
       "    <tr>\n",
       "      <th>3</th>\n",
       "      <td>-122.25</td>\n",
       "      <td>37.85</td>\n",
       "      <td>52.0</td>\n",
       "      <td>1274.0</td>\n",
       "      <td>558.0</td>\n",
       "      <td>219.0</td>\n",
       "      <td>5.6431</td>\n",
       "      <td>341300.0</td>\n",
       "    </tr>\n",
       "    <tr>\n",
       "      <th>4</th>\n",
       "      <td>-122.25</td>\n",
       "      <td>37.85</td>\n",
       "      <td>52.0</td>\n",
       "      <td>1627.0</td>\n",
       "      <td>565.0</td>\n",
       "      <td>259.0</td>\n",
       "      <td>3.8462</td>\n",
       "      <td>342200.0</td>\n",
       "    </tr>\n",
       "  </tbody>\n",
       "</table>\n",
       "</div>"
      ],
      "text/plain": [
       "   longitude  latitude  housing_median_age  total_rooms  population  \\\n",
       "0    -122.23     37.88                41.0        880.0       322.0   \n",
       "1    -122.22     37.86                21.0       7099.0      2401.0   \n",
       "2    -122.24     37.85                52.0       1467.0       496.0   \n",
       "3    -122.25     37.85                52.0       1274.0       558.0   \n",
       "4    -122.25     37.85                52.0       1627.0       565.0   \n",
       "\n",
       "   households  median_income  median_house_value  \n",
       "0       126.0         8.3252            452600.0  \n",
       "1      1138.0         8.3014            358500.0  \n",
       "2       177.0         7.2574            352100.0  \n",
       "3       219.0         5.6431            341300.0  \n",
       "4       259.0         3.8462            342200.0  "
      ]
     },
     "execution_count": 9,
     "metadata": {},
     "output_type": "execute_result"
    }
   ],
   "source": [
    "housing = load_housing_data()\n",
    "housing.drop([\"ocean_proximity\", \"total_bedrooms\"], axis = 1, inplace = True) # Removing ocean_proximity because\n",
    "                                # it is of object type, total_bedrooms because it has missing values\n",
    "housing.head(5)"
   ]
  },
  {
   "cell_type": "code",
   "execution_count": 10,
   "id": "eecb98a5",
   "metadata": {},
   "outputs": [],
   "source": [
    "# Splitting the dataset into train, test and validation sets\n",
    "\n",
    "X = housing.drop(\"median_house_value\", axis = 1)\n",
    "y = housing[\"median_house_value\"]\n",
    "X_train_full, X_test, y_train_full, y_test = train_test_split(X, y, random_state = 42)\n",
    "X_train, X_valid, y_train, y_valid = train_test_split(X_train_full, y_train_full, random_state=42)"
   ]
  },
  {
   "cell_type": "code",
   "execution_count": 11,
   "id": "729c310b",
   "metadata": {},
   "outputs": [],
   "source": [
    "# Scale the inputs\n",
    "scaler = StandardScaler()\n",
    "X_train = scaler.fit_transform(X_train)\n",
    "X_valid = scaler.transform(X_valid)\n",
    "X_test = scaler.transform(X_test)"
   ]
  },
  {
   "cell_type": "code",
   "execution_count": 12,
   "id": "4c42628e",
   "metadata": {},
   "outputs": [
    {
     "name": "stdout",
     "output_type": "stream",
     "text": [
      "Epoch 1/20\n"
     ]
    },
    {
     "name": "stderr",
     "output_type": "stream",
     "text": [
      "2023-06-25 05:54:20.568278: I tensorflow/compiler/xla/stream_executor/cuda/cuda_blas.cc:637] TensorFloat-32 will be used for the matrix multiplication. This will only be logged once.\n",
      "2023-06-25 05:54:20.737349: I tensorflow/compiler/xla/service/service.cc:169] XLA service 0x7f5f6baeb1d0 initialized for platform CUDA (this does not guarantee that XLA will be used). Devices:\n",
      "2023-06-25 05:54:20.737361: I tensorflow/compiler/xla/service/service.cc:177]   StreamExecutor device (0): NVIDIA GeForce RTX 4090, Compute Capability 8.9\n",
      "2023-06-25 05:54:20.915262: I tensorflow/compiler/xla/stream_executor/cuda/cuda_dnn.cc:424] Loaded cuDNN version 8700\n",
      "2023-06-25 05:54:21.112054: I ./tensorflow/compiler/jit/device_compiler.h:180] Compiled cluster using XLA!  This line is logged at most once for the lifetime of the process.\n"
     ]
    },
    {
     "name": "stdout",
     "output_type": "stream",
     "text": [
      "363/363 [==============================] - 4s 852us/step - loss: nan - val_loss: nan\n",
      "Epoch 2/20\n",
      "363/363 [==============================] - 0s 696us/step - loss: nan - val_loss: nan\n",
      "Epoch 3/20\n",
      "363/363 [==============================] - 0s 700us/step - loss: nan - val_loss: nan\n",
      "Epoch 4/20\n",
      "363/363 [==============================] - 0s 657us/step - loss: nan - val_loss: nan\n",
      "Epoch 5/20\n",
      "363/363 [==============================] - 0s 663us/step - loss: nan - val_loss: nan\n",
      "Epoch 6/20\n",
      "363/363 [==============================] - 0s 723us/step - loss: nan - val_loss: nan\n",
      "Epoch 7/20\n",
      "363/363 [==============================] - 0s 710us/step - loss: nan - val_loss: nan\n",
      "Epoch 8/20\n",
      "363/363 [==============================] - 0s 633us/step - loss: nan - val_loss: nan\n",
      "Epoch 9/20\n",
      "363/363 [==============================] - 0s 646us/step - loss: nan - val_loss: nan\n",
      "Epoch 10/20\n",
      "363/363 [==============================] - 0s 689us/step - loss: nan - val_loss: nan\n",
      "Epoch 11/20\n",
      "363/363 [==============================] - 0s 733us/step - loss: nan - val_loss: nan\n",
      "Epoch 12/20\n",
      "363/363 [==============================] - 0s 676us/step - loss: nan - val_loss: nan\n",
      "Epoch 13/20\n",
      "363/363 [==============================] - 0s 755us/step - loss: nan - val_loss: nan\n",
      "Epoch 14/20\n",
      "363/363 [==============================] - 0s 710us/step - loss: nan - val_loss: nan\n",
      "Epoch 15/20\n",
      "363/363 [==============================] - 0s 702us/step - loss: nan - val_loss: nan\n",
      "Epoch 16/20\n",
      "363/363 [==============================] - 0s 692us/step - loss: nan - val_loss: nan\n",
      "Epoch 17/20\n",
      "363/363 [==============================] - 0s 669us/step - loss: nan - val_loss: nan\n",
      "Epoch 18/20\n",
      "363/363 [==============================] - 0s 641us/step - loss: nan - val_loss: nan\n",
      "Epoch 19/20\n",
      "363/363 [==============================] - 0s 668us/step - loss: nan - val_loss: nan\n",
      "Epoch 20/20\n",
      "363/363 [==============================] - 0s 733us/step - loss: nan - val_loss: nan\n"
     ]
    }
   ],
   "source": [
    "# Initialize the model\n",
    "model = keras.models.Sequential([\n",
    "    keras.layers.Dense(30, activation=\"relu\", input_shape=X_train.shape[1:]),\n",
    "    keras.layers.Dense(1)\n",
    "])\n",
    "\n",
    "# Compile the model\n",
    "model.compile(loss = \"mean_squared_error\", optimizer = \"sgd\")\n",
    "\n",
    "# Train the model\n",
    "history = model.fit(X_train, y_train, epochs=20, validation_data=(X_valid, y_valid))"
   ]
  },
  {
   "cell_type": "markdown",
   "id": "ffbc3419",
   "metadata": {},
   "source": [
    "- The above \"loss:nan - val_loss: nan\" might be because the dataset I use is different from the one what is used in the book. When I tried using the dataset as described in the book, it throwed 403: Firbiiden error. So, tried downloading separately but there seems to be some issues with the data.\n",
    "- Apparently, the dataset used in the book is much simpler"
   ]
  },
  {
   "cell_type": "code",
   "execution_count": 13,
   "id": "f52852b4",
   "metadata": {},
   "outputs": [
    {
     "name": "stdout",
     "output_type": "stream",
     "text": [
      "162/162 [==============================] - 0s 407us/step - loss: nan\n",
      "1/1 [==============================] - 0s 30ms/step\n"
     ]
    }
   ],
   "source": [
    "# Evaluate and predict\n",
    "mse_test = model.evaluate(X_test, y_test)\n",
    "X_new = X_test[:3]\n",
    "y_pred = model.predict(X_new)"
   ]
  },
  {
   "cell_type": "markdown",
   "id": "094ec2c1",
   "metadata": {},
   "source": [
    "## 3) Building Complex models using the Functional API"
   ]
  },
  {
   "cell_type": "code",
   "execution_count": 14,
   "id": "99c0e03d",
   "metadata": {},
   "outputs": [],
   "source": [
    "# Model 1\n",
    "input_ = keras.layers.Input(shape = X_train.shape[1:])\n",
    "hidden1 = keras.layers.Dense(30, activation = \"relu\")(input_)\n",
    "hidden2 = keras.layers.Dense(30, activation = \"relu\")(hidden1)\n",
    "concat = keras.layers.Concatenate()([input_, hidden2])\n",
    "output = keras.layers.Dense(1)(concat)\n",
    "model1 = keras.Model(inputs = [input_], outputs = [output])"
   ]
  },
  {
   "cell_type": "code",
   "execution_count": 15,
   "id": "790b76d2",
   "metadata": {},
   "outputs": [],
   "source": [
    "# Model 2 with 2 inputs\n",
    "input_A = keras.layers.Input(shape=[5], name = \"wide_input\")\n",
    "input_B = keras.layers.Input(shape=[5], name = \"deep_input\")\n",
    "hidden1 = keras.layers.Dense(30, activation = \"relu\")(input_B)\n",
    "hidden2 = keras.layers.Dense(30, activation = \"relu\")(hidden1)\n",
    "concat = keras.layers.Concatenate()([input_A, hidden2])\n",
    "output = keras.layers.Dense(1, name = \"output\")(concat)\n",
    "model2 = keras.Model(inputs = [input_A, input_B], outputs = [output])"
   ]
  },
  {
   "cell_type": "code",
   "execution_count": 16,
   "id": "e82c1a0b",
   "metadata": {},
   "outputs": [],
   "source": [
    "# Model 3 with 2 outputs\n",
    "input_A = keras.layers.Input(shape=[5], name = \"wide_input\")\n",
    "input_B = keras.layers.Input(shape=[5], name = \"deep_input\")\n",
    "hidden1 = keras.layers.Dense(30, activation = \"relu\")(input_B)\n",
    "hidden2 = keras.layers.Dense(30, activation = \"relu\")(hidden1)\n",
    "concat = keras.layers.Concatenate()([input_A, hidden2])\n",
    "output = keras.layers.Dense(1, name = \"output\")(concat)\n",
    "aux_output = keras.layers.Dense(1, name = \"aux_output\")(hidden2)\n",
    "model3 = keras.Model(inputs = [input_A, input_B], outputs = [output, aux_output])"
   ]
  },
  {
   "cell_type": "markdown",
   "id": "aad16e38",
   "metadata": {},
   "source": [
    "### Using the Model 2"
   ]
  },
  {
   "cell_type": "code",
   "execution_count": 21,
   "id": "04ad1845",
   "metadata": {},
   "outputs": [
    {
     "name": "stderr",
     "output_type": "stream",
     "text": [
      "WARNING:absl:`lr` is deprecated in Keras optimizer, please use `learning_rate` or use the legacy optimizer, e.g.,tf.keras.optimizers.legacy.SGD.\n"
     ]
    }
   ],
   "source": [
    "# Using the Model 2\n",
    "model2.compile(loss=\"mse\", optimizer = keras.optimizers.SGD(lr=1e-3))\n",
    "\n",
    "X_train_A, X_train_B = X_train[:, :5], X_train[:, 2:]\n",
    "X_valid_A, X_valid_B = X_valid[:, :5], X_valid[:, 2:]\n",
    "X_test_A, X_test_B = X_test[:, :5], X_test[:, 2:]\n",
    "X_new_A, X_new_B = X_test_A[:3], X_test_B[:3]"
   ]
  },
  {
   "cell_type": "code",
   "execution_count": 22,
   "id": "4840312e",
   "metadata": {},
   "outputs": [
    {
     "name": "stdout",
     "output_type": "stream",
     "text": [
      "Model: \"model_1\"\n",
      "__________________________________________________________________________________________________\n",
      " Layer (type)                   Output Shape         Param #     Connected to                     \n",
      "==================================================================================================\n",
      " deep_input (InputLayer)        [(None, 5)]          0           []                               \n",
      "                                                                                                  \n",
      " dense_5 (Dense)                (None, 30)           180         ['deep_input[0][0]']             \n",
      "                                                                                                  \n",
      " wide_input (InputLayer)        [(None, 5)]          0           []                               \n",
      "                                                                                                  \n",
      " dense_6 (Dense)                (None, 30)           930         ['dense_5[0][0]']                \n",
      "                                                                                                  \n",
      " concatenate_1 (Concatenate)    (None, 35)           0           ['wide_input[0][0]',             \n",
      "                                                                  'dense_6[0][0]']                \n",
      "                                                                                                  \n",
      " output (Dense)                 (None, 1)            36          ['concatenate_1[0][0]']          \n",
      "                                                                                                  \n",
      "==================================================================================================\n",
      "Total params: 1,146\n",
      "Trainable params: 1,146\n",
      "Non-trainable params: 0\n",
      "__________________________________________________________________________________________________\n"
     ]
    }
   ],
   "source": [
    "model2.summary()"
   ]
  },
  {
   "cell_type": "code",
   "execution_count": 23,
   "id": "ccf1985e",
   "metadata": {},
   "outputs": [
    {
     "data": {
      "text/html": [
       "<div>\n",
       "<style scoped>\n",
       "    .dataframe tbody tr th:only-of-type {\n",
       "        vertical-align: middle;\n",
       "    }\n",
       "\n",
       "    .dataframe tbody tr th {\n",
       "        vertical-align: top;\n",
       "    }\n",
       "\n",
       "    .dataframe thead th {\n",
       "        text-align: right;\n",
       "    }\n",
       "</style>\n",
       "<table border=\"1\" class=\"dataframe\">\n",
       "  <thead>\n",
       "    <tr style=\"text-align: right;\">\n",
       "      <th></th>\n",
       "      <th>longitude</th>\n",
       "      <th>latitude</th>\n",
       "      <th>housing_median_age</th>\n",
       "      <th>total_rooms</th>\n",
       "      <th>population</th>\n",
       "      <th>households</th>\n",
       "      <th>median_income</th>\n",
       "    </tr>\n",
       "  </thead>\n",
       "  <tbody>\n",
       "    <tr>\n",
       "      <th>0</th>\n",
       "      <td>-122.23</td>\n",
       "      <td>37.88</td>\n",
       "      <td>41.0</td>\n",
       "      <td>880.0</td>\n",
       "      <td>322.0</td>\n",
       "      <td>126.0</td>\n",
       "      <td>8.3252</td>\n",
       "    </tr>\n",
       "    <tr>\n",
       "      <th>1</th>\n",
       "      <td>-122.22</td>\n",
       "      <td>37.86</td>\n",
       "      <td>21.0</td>\n",
       "      <td>7099.0</td>\n",
       "      <td>2401.0</td>\n",
       "      <td>1138.0</td>\n",
       "      <td>8.3014</td>\n",
       "    </tr>\n",
       "    <tr>\n",
       "      <th>2</th>\n",
       "      <td>-122.24</td>\n",
       "      <td>37.85</td>\n",
       "      <td>52.0</td>\n",
       "      <td>1467.0</td>\n",
       "      <td>496.0</td>\n",
       "      <td>177.0</td>\n",
       "      <td>7.2574</td>\n",
       "    </tr>\n",
       "    <tr>\n",
       "      <th>3</th>\n",
       "      <td>-122.25</td>\n",
       "      <td>37.85</td>\n",
       "      <td>52.0</td>\n",
       "      <td>1274.0</td>\n",
       "      <td>558.0</td>\n",
       "      <td>219.0</td>\n",
       "      <td>5.6431</td>\n",
       "    </tr>\n",
       "    <tr>\n",
       "      <th>4</th>\n",
       "      <td>-122.25</td>\n",
       "      <td>37.85</td>\n",
       "      <td>52.0</td>\n",
       "      <td>1627.0</td>\n",
       "      <td>565.0</td>\n",
       "      <td>259.0</td>\n",
       "      <td>3.8462</td>\n",
       "    </tr>\n",
       "  </tbody>\n",
       "</table>\n",
       "</div>"
      ],
      "text/plain": [
       "   longitude  latitude  housing_median_age  total_rooms  population  \\\n",
       "0    -122.23     37.88                41.0        880.0       322.0   \n",
       "1    -122.22     37.86                21.0       7099.0      2401.0   \n",
       "2    -122.24     37.85                52.0       1467.0       496.0   \n",
       "3    -122.25     37.85                52.0       1274.0       558.0   \n",
       "4    -122.25     37.85                52.0       1627.0       565.0   \n",
       "\n",
       "   households  median_income  \n",
       "0       126.0         8.3252  \n",
       "1      1138.0         8.3014  \n",
       "2       177.0         7.2574  \n",
       "3       219.0         5.6431  \n",
       "4       259.0         3.8462  "
      ]
     },
     "execution_count": 23,
     "metadata": {},
     "output_type": "execute_result"
    }
   ],
   "source": [
    "X.head()"
   ]
  },
  {
   "cell_type": "code",
   "execution_count": 24,
   "id": "b16a06d8",
   "metadata": {},
   "outputs": [
    {
     "name": "stdout",
     "output_type": "stream",
     "text": [
      "Epoch 1/20\n",
      "363/363 [==============================] - 1s 1ms/step - loss: nan - val_loss: nan\n",
      "Epoch 2/20\n",
      "363/363 [==============================] - 0s 892us/step - loss: nan - val_loss: nan\n",
      "Epoch 3/20\n",
      "363/363 [==============================] - 0s 846us/step - loss: nan - val_loss: nan\n",
      "Epoch 4/20\n",
      "363/363 [==============================] - 0s 856us/step - loss: nan - val_loss: nan\n",
      "Epoch 5/20\n",
      "363/363 [==============================] - 0s 889us/step - loss: nan - val_loss: nan\n",
      "Epoch 6/20\n",
      "363/363 [==============================] - 0s 887us/step - loss: nan - val_loss: nan\n",
      "Epoch 7/20\n",
      "363/363 [==============================] - 0s 892us/step - loss: nan - val_loss: nan\n",
      "Epoch 8/20\n",
      "363/363 [==============================] - 0s 944us/step - loss: nan - val_loss: nan\n",
      "Epoch 9/20\n",
      "363/363 [==============================] - 0s 914us/step - loss: nan - val_loss: nan\n",
      "Epoch 10/20\n",
      "363/363 [==============================] - 0s 897us/step - loss: nan - val_loss: nan\n",
      "Epoch 11/20\n",
      "363/363 [==============================] - 0s 875us/step - loss: nan - val_loss: nan\n",
      "Epoch 12/20\n",
      "363/363 [==============================] - 0s 927us/step - loss: nan - val_loss: nan\n",
      "Epoch 13/20\n",
      "363/363 [==============================] - 0s 904us/step - loss: nan - val_loss: nan\n",
      "Epoch 14/20\n",
      "363/363 [==============================] - 0s 923us/step - loss: nan - val_loss: nan\n",
      "Epoch 15/20\n",
      "363/363 [==============================] - 0s 898us/step - loss: nan - val_loss: nan\n",
      "Epoch 16/20\n",
      "363/363 [==============================] - 0s 960us/step - loss: nan - val_loss: nan\n",
      "Epoch 17/20\n",
      "363/363 [==============================] - 0s 914us/step - loss: nan - val_loss: nan\n",
      "Epoch 18/20\n",
      "363/363 [==============================] - 0s 847us/step - loss: nan - val_loss: nan\n",
      "Epoch 19/20\n",
      "363/363 [==============================] - 0s 870us/step - loss: nan - val_loss: nan\n",
      "Epoch 20/20\n",
      "363/363 [==============================] - 0s 862us/step - loss: nan - val_loss: nan\n",
      "162/162 [==============================] - 0s 406us/step - loss: nan\n",
      "1/1 [==============================] - 0s 21ms/step\n"
     ]
    }
   ],
   "source": [
    "# Train the model\n",
    "history = model2.fit((X_train_A, X_train_B), y_train, epochs=20, validation_data=((X_valid_A, X_valid_B), y_valid))\n",
    "mse_test = model2.evaluate((X_test_A, X_test_B), y_test)\n",
    "y_pred = model2.predict((X_new_A, X_new_B))"
   ]
  },
  {
   "cell_type": "markdown",
   "id": "de5ec245",
   "metadata": {},
   "source": [
    "- The above \"loss:nan - val_loss: nan\" error is because I use a different dataset and the data might be incompatible."
   ]
  },
  {
   "cell_type": "markdown",
   "id": "1f358d76",
   "metadata": {},
   "source": [
    "### Using the model 3"
   ]
  },
  {
   "cell_type": "code",
   "execution_count": 26,
   "id": "71950f86",
   "metadata": {},
   "outputs": [
    {
     "name": "stdout",
     "output_type": "stream",
     "text": [
      "Epoch 1/20\n",
      "363/363 [==============================] - 1s 1ms/step - loss: 9062356992.0000 - output_loss: 8580033536.0000 - aux_output_loss: 13403333632.0000 - val_loss: 9406796800.0000 - val_output_loss: 8988808192.0000 - val_aux_output_loss: 13168672768.0000\n",
      "Epoch 2/20\n",
      "363/363 [==============================] - 0s 1ms/step - loss: 8936317952.0000 - output_loss: 8439979520.0000 - aux_output_loss: 13403384832.0000 - val_loss: 9359664128.0000 - val_output_loss: 8936346624.0000 - val_aux_output_loss: 13169556480.0000\n",
      "Epoch 3/20\n",
      "363/363 [==============================] - 0s 1ms/step - loss: 8879163392.0000 - output_loss: 8376488960.0000 - aux_output_loss: 13403277312.0000 - val_loss: 9442499584.0000 - val_output_loss: 9028302848.0000 - val_aux_output_loss: 13170265088.0000\n",
      "Epoch 4/20\n",
      "363/363 [==============================] - 0s 1ms/step - loss: 8860975104.0000 - output_loss: 8356288512.0000 - aux_output_loss: 13403177984.0000 - val_loss: 9361753088.0000 - val_output_loss: 8938419200.0000 - val_aux_output_loss: 13171764224.0000\n",
      "Epoch 5/20\n",
      "363/363 [==============================] - 0s 1ms/step - loss: 8857925632.0000 - output_loss: 8352880128.0000 - aux_output_loss: 13403312128.0000 - val_loss: 9350503424.0000 - val_output_loss: 8925825024.0000 - val_aux_output_loss: 13172633600.0000\n",
      "Epoch 6/20\n",
      "363/363 [==============================] - 0s 1ms/step - loss: 8852785152.0000 - output_loss: 8347188224.0000 - aux_output_loss: 13403175936.0000 - val_loss: 9552635904.0000 - val_output_loss: 9150590976.0000 - val_aux_output_loss: 13171049472.0000\n",
      "Epoch 7/20\n",
      "363/363 [==============================] - 0s 1ms/step - loss: 8850596864.0000 - output_loss: 8344770560.0000 - aux_output_loss: 13403023360.0000 - val_loss: 9415764992.0000 - val_output_loss: 8998203392.0000 - val_aux_output_loss: 13173819392.0000\n",
      "Epoch 8/20\n",
      "363/363 [==============================] - 0s 1ms/step - loss: 8847054848.0000 - output_loss: 8340796416.0000 - aux_output_loss: 13403423744.0000 - val_loss: 9448487936.0000 - val_output_loss: 9034719232.0000 - val_aux_output_loss: 13172417536.0000\n",
      "Epoch 9/20\n",
      "363/363 [==============================] - 0s 1ms/step - loss: 8855441408.0000 - output_loss: 8350119936.0000 - aux_output_loss: 13403337728.0000 - val_loss: 9492204544.0000 - val_output_loss: 9083355136.0000 - val_aux_output_loss: 13171828736.0000\n",
      "Epoch 10/20\n",
      "363/363 [==============================] - 0s 1ms/step - loss: 8845672448.0000 - output_loss: 8339259904.0000 - aux_output_loss: 13403354112.0000 - val_loss: 9533355008.0000 - val_output_loss: 9129182208.0000 - val_aux_output_loss: 13170935808.0000\n",
      "Epoch 11/20\n",
      "363/363 [==============================] - 0s 1ms/step - loss: 8853910528.0000 - output_loss: 8348409344.0000 - aux_output_loss: 13403428864.0000 - val_loss: 9436438528.0000 - val_output_loss: 9021581312.0000 - val_aux_output_loss: 13170132992.0000\n",
      "Epoch 12/20\n",
      "363/363 [==============================] - 0s 1ms/step - loss: 8842003456.0000 - output_loss: 8335182336.0000 - aux_output_loss: 13403409408.0000 - val_loss: 9393418240.0000 - val_output_loss: 8973684736.0000 - val_aux_output_loss: 13171023872.0000\n",
      "Epoch 13/20\n",
      "363/363 [==============================] - 0s 1ms/step - loss: 8852983808.0000 - output_loss: 8347398144.0000 - aux_output_loss: 13403220992.0000 - val_loss: 9492059136.0000 - val_output_loss: 9083119616.0000 - val_aux_output_loss: 13172526080.0000\n",
      "Epoch 14/20\n",
      "363/363 [==============================] - 0s 1ms/step - loss: 8849391616.0000 - output_loss: 8343397888.0000 - aux_output_loss: 13403358208.0000 - val_loss: 9358214144.0000 - val_output_loss: 8934521856.0000 - val_aux_output_loss: 13171433472.0000\n",
      "Epoch 15/20\n",
      "363/363 [==============================] - 0s 1ms/step - loss: 8851045376.0000 - output_loss: 8345231360.0000 - aux_output_loss: 13403339776.0000 - val_loss: 9326820352.0000 - val_output_loss: 8899546112.0000 - val_aux_output_loss: 13172260864.0000\n",
      "Epoch 16/20\n",
      "363/363 [==============================] - 0s 1ms/step - loss: 8853457920.0000 - output_loss: 8347908608.0000 - aux_output_loss: 13403369472.0000 - val_loss: 9358617600.0000 - val_output_loss: 8934964224.0000 - val_aux_output_loss: 13171491840.0000\n",
      "Epoch 17/20\n",
      "363/363 [==============================] - 0s 1ms/step - loss: 8843168768.0000 - output_loss: 8336481792.0000 - aux_output_loss: 13403400192.0000 - val_loss: 9342192640.0000 - val_output_loss: 8916673536.0000 - val_aux_output_loss: 13171847168.0000\n",
      "Epoch 18/20\n",
      "363/363 [==============================] - 0s 1ms/step - loss: 8849661952.0000 - output_loss: 8343694848.0000 - aux_output_loss: 13403309056.0000 - val_loss: 9638070272.0000 - val_output_loss: 9245395968.0000 - val_aux_output_loss: 13172140032.0000\n",
      "Epoch 19/20\n",
      "363/363 [==============================] - 0s 1ms/step - loss: 8851279872.0000 - output_loss: 8345510400.0000 - aux_output_loss: 13403133952.0000 - val_loss: 9489878016.0000 - val_output_loss: 9081059328.0000 - val_aux_output_loss: 13169265664.0000\n",
      "Epoch 20/20\n",
      "363/363 [==============================] - 0s 1ms/step - loss: 8846689280.0000 - output_loss: 8340413440.0000 - aux_output_loss: 13403098112.0000 - val_loss: 9377766400.0000 - val_output_loss: 8956658688.0000 - val_aux_output_loss: 13167737856.0000\n",
      "162/162 [==============================] - 0s 618us/step - loss: 8852392960.0000 - output_loss: 8365467648.0000 - aux_output_loss: 13234726912.0000\n",
      "1/1 [==============================] - 0s 24ms/step\n"
     ]
    }
   ],
   "source": [
    "model3.compile(loss = [\"mse\", \"mse\"], loss_weights = [0.9, 0.1], optimizer = \"sgd\")\n",
    "history = model3.fit([X_train_A, X_train_B], [y_train, y_train], epochs = 20,\n",
    "                    validation_data=([X_valid_A, X_valid_B], [y_valid, y_valid]))\n",
    "\n",
    "train_loss, main_loss, aux_loss = model3.evaluate([X_test_A, X_test_B], [y_test, y_test])\n",
    "y_pred, y_pred_aux = model3.predict([X_new_A, X_new_B])"
   ]
  },
  {
   "cell_type": "markdown",
   "id": "881195c7",
   "metadata": {},
   "source": [
    "## 4) Using the subclassing API to Build Dynamic Models"
   ]
  },
  {
   "cell_type": "code",
   "execution_count": 27,
   "id": "8ae428ab",
   "metadata": {},
   "outputs": [],
   "source": [
    "class WideAndDeepModel(keras.Model):\n",
    "    def __init__(self, units=30, activation=\"relu\", **kwargs):\n",
    "        super().__init__(**kwargs)\n",
    "        self.hidden1 = keras.layers.Dense(units, activation=activation)\n",
    "        self.hidden2 = keras.layers.Dense(units, activation=activation)\n",
    "        self.main_output = keras.layers.Dense(1)\n",
    "        self.aux_output = keras.layers.Dense(1)\n",
    "    \n",
    "    def call(self, inputs):\n",
    "        input_A, input_B = inputs\n",
    "        hidden1 = self.hidden1(input_B)\n",
    "        hidden2 = self.hidden2(hidden1)\n",
    "        concat = keras.layers.Concatenate([input_A, hidden2])\n",
    "        main_output = self.main_output(concat)\n",
    "        aux_output = self.aux_output(hidden2)\n",
    "        return main_output, aux_output\n",
    "\n",
    "model = WideAndDeepModel()"
   ]
  },
  {
   "cell_type": "markdown",
   "id": "343e1c47",
   "metadata": {},
   "source": [
    "- In the above example, we are subclassing the Model class. Creating the layers we need in the constructor and using them to perform the computation in the call()\n",
    "- The big difference is that we can do pretty much anything we want in the call() method: for loops, if statements, ;ow-level tensorflow operations. This makes it a great API for researchers experimenting with new ideas."
   ]
  },
  {
   "cell_type": "markdown",
   "id": "1a6e981c",
   "metadata": {},
   "source": [
    "## 5) Saving the model"
   ]
  },
  {
   "cell_type": "code",
   "execution_count": 29,
   "id": "73330e67",
   "metadata": {},
   "outputs": [],
   "source": [
    "# Saving the model\n",
    "model = keras.models.Sequential([...])\n",
    "model.compile([...])\n",
    "model.fit([...])\n",
    "model.save(\"my_keras_model.h5\")\n",
    "\n",
    "# Reloading the saved model\n",
    "model = keras.models.load_model(\"my_keras_model.h5\")"
   ]
  },
  {
   "cell_type": "markdown",
   "id": "aca4b2e4",
   "metadata": {},
   "source": [
    "- Saving the model will work when using Sequential API or Functional API but not when using the Subclassing the model.\n",
    "- We can use save_weights(), load_weights() as an workaround atleast to save the model parameters"
   ]
  },
  {
   "cell_type": "markdown",
   "id": "35a3ad46",
   "metadata": {},
   "source": [
    "## 6) Using Callbacks"
   ]
  },
  {
   "cell_type": "markdown",
   "id": "da884bbb",
   "metadata": {},
   "source": [
    "- What if trainging lasts several hours or days?\n",
    "- In that case, we should not only save our model at the end of each training, but also save checkpoints at regular intervals during training to avoid losing evrything if our computer crashes.\n",
    "- But how do we tell the fit() method to save the checkpoints? Answer: Use callbacks"
   ]
  },
  {
   "cell_type": "code",
   "execution_count": null,
   "id": "307f78d8",
   "metadata": {},
   "outputs": [],
   "source": [
    "# First build and compile the model\n",
    "checkpoint_cb = keras.callbacks.ModelCheckpoint(\"my_keras_model.h5\")\n",
    "history = model.fit(X_train, y_train, epochs=10, callbacks=[checkpoint_cb])"
   ]
  },
  {
   "cell_type": "code",
   "execution_count": null,
   "id": "2cf0ddc3",
   "metadata": {},
   "outputs": [],
   "source": [
    "# When using validation sets, we can store the best model on validation set using \"save_best_only=True\"\n",
    "# The following code is a simple way to implement early stopping\n",
    "\n",
    "checkpoint_cb = keras.callbacks.ModelCheckpoint(\"my_keras_model.h5\", save_best_only=True)\n",
    "\n",
    "history = model.fit(X_train, y_train, epochs=10, validation_data=(X_valid, y_valid), callbacks=[checkpoint_cb])\n",
    "\n",
    "model = keras.models.load_model(\"my_keras_model.h5\")"
   ]
  },
  {
   "cell_type": "code",
   "execution_count": null,
   "id": "94b5f30c",
   "metadata": {},
   "outputs": [],
   "source": [
    "# Another way of implementing the early stopping\n",
    "# Will interrupt training when it measures no progress on the validation set for a number of epochs(patience argument)\n",
    "\n",
    "early_stopping_cb = keras.callbacks.EarlyStopping(patience=10, restore_best_weights=True)\n",
    "\n",
    "history = model.fit(X_train, y_train, epochs=100, validation_data=(X_valid, y_valid), \n",
    "                    callbacks=[checkpoint_cb, early_stopping_cb])"
   ]
  },
  {
   "cell_type": "code",
   "execution_count": null,
   "id": "aeb14368",
   "metadata": {},
   "outputs": [],
   "source": [
    "# We can write own custom callbacks\n",
    "class PrintValTrainRatioCallback(keras.callbacks.Callback):\n",
    "    def on_epoch_end(self, epoch, logs):\n",
    "        print(\"\\nval/train: {:.2f}\".format(logs[\"val_loss\"]/logs[\"loss\"]))"
   ]
  },
  {
   "cell_type": "markdown",
   "id": "fdede0e3",
   "metadata": {},
   "source": [
    "- We can implement the custom callbacks on: \n",
    "- on_train_begin(), on_train_end(), on_epoch_begin(), on_epoch_end(), batch, test, test_batch(called by evaluate()), predict, predict_batch(called by predict())"
   ]
  },
  {
   "cell_type": "markdown",
   "id": "a6508729",
   "metadata": {},
   "source": [
    "## 7) Using TensorBoard for visualization"
   ]
  },
  {
   "cell_type": "markdown",
   "id": "88c9382c",
   "metadata": {},
   "source": [
    "- Tensorboard is a great interactive visualization toll that we can use to view the learning curves during training, compare learning curve between multiple runs, and so on.\n",
    "- It's a great tool to keep in hand\n",
    "- There are instructions on how to start the server and how exaxtly to use it in the book and we can also refer in the internet.\n",
    "- So, go through it again when the tool is in need for any project."
   ]
  },
  {
   "cell_type": "markdown",
   "id": "2c6c55d4",
   "metadata": {},
   "source": [
    "## 8) Fine-Tuning Neural Network Hyperparameters"
   ]
  },
  {
   "cell_type": "code",
   "execution_count": 36,
   "id": "ad45da4d",
   "metadata": {},
   "outputs": [],
   "source": [
    "# Function that will build and compile a Keras model, given a set of hyperparameters\n",
    "def build_model(n_hidden=1, n_neurons=30, learning_rate=3e-3, input_shape=[7]):\n",
    "    model = keras.models.Sequential()\n",
    "    model.add(keras.layers.InputLayer(input_shape=input_shape))\n",
    "    for layer in range(n_hidden):\n",
    "        model.add(keras.layers.Dense(n_neurons, activation=\"relu\"))\n",
    "    model.add(keras.layers.Dense(1))\n",
    "    optimizer = keras.optimizers.SGD(lr=learning_rate)\n",
    "    model.compile(loss=\"mse\", optimizer=optimizer)\n",
    "    return model"
   ]
  },
  {
   "cell_type": "markdown",
   "id": "930a1d2e",
   "metadata": {},
   "source": [
    "To know, why we do this way to use the randomizedsearchcv, refer the book at pg_no: 320-323"
   ]
  },
  {
   "cell_type": "code",
   "execution_count": 43,
   "id": "8e4bb57d",
   "metadata": {},
   "outputs": [],
   "source": [
    "keras_reg = keras.wrappers.scikit_learn.KerasRegressor(build_model)\n",
    "\n",
    "keras_reg.fit(X_train, y_train, epochs=100, validation_data=(X_valid, y_valid),\n",
    "             callbacks=[keras.callbacks.EarlyStopping(patience=10)])\n",
    "mse_test = keras_reg.score(X_test, y_test)\n",
    "y_pred = keras_reg.predict(X_test)"
   ]
  },
  {
   "cell_type": "code",
   "execution_count": 42,
   "id": "85215837",
   "metadata": {},
   "outputs": [],
   "source": [
    "from scipy.stats import reciprocal\n",
    "from sklearn.model_selection import RandomizedSearchCV\n",
    "import numpy as np\n",
    "\n",
    "param_distribs = {\n",
    "    \"n_hidden\": [0, 1, 2, 3],\n",
    "    \"n_neurons\":np.arange(1,100),\n",
    "    \"learning_rate\": reciprocal(3e-4, 3e-2),\n",
    "}\n",
    "\n",
    "rnd_search_cv = RandomizedSearchCV(keras_reg, param_distribs, n_iter=10, cv=3)\n",
    "rnd_search_cv.fit(X_train, y_train, epochs=100, validation_data=(X_valid, y_valid),\n",
    "                 callbacks=[keras.callbacks.EarlyStopping(patience=10)])"
   ]
  },
  {
   "cell_type": "markdown",
   "id": "d3ae3538",
   "metadata": {},
   "source": [
    "- Evolutionary algorithms are used to search the hyperparameter space\n",
    "\n",
    "**What is an evolutionary algorithm?**\n",
    "\n",
    "An evolutionary algorithm is an evolutionary AI-based computer application that solves problems by employing processes that mimic the behaviors of living things. As such, it uses mechanisms that are typically associated with biological evolution, such as reproduction, mutation, and recombination. \n",
    "\n",
    "Evolutionary algorithms function in a Darwinian-like natural selection process; the weakest solutions are eliminated while stronger, more viable options are retained and re-evaluated in the next evolution—with the goal being to arrive at optimal actions to achieve the desired outcomes.\n"
   ]
  },
  {
   "cell_type": "code",
   "execution_count": null,
   "id": "6cd7361b",
   "metadata": {},
   "outputs": [],
   "source": []
  }
 ],
 "metadata": {
  "kernelspec": {
   "display_name": "Python 3 (ipykernel)",
   "language": "python",
   "name": "python3"
  },
  "language_info": {
   "codemirror_mode": {
    "name": "ipython",
    "version": 3
   },
   "file_extension": ".py",
   "mimetype": "text/x-python",
   "name": "python",
   "nbconvert_exporter": "python",
   "pygments_lexer": "ipython3",
   "version": "3.10.10"
  }
 },
 "nbformat": 4,
 "nbformat_minor": 5
}
